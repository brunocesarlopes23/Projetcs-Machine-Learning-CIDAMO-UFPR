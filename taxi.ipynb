{
  "cells": [
    {
      "cell_type": "markdown",
      "metadata": {
        "id": "view-in-github",
        "colab_type": "text"
      },
      "source": [
        "<a href=\"https://colab.research.google.com/github/brunocesarlopes23/projetcs-course-ml-cidamo/blob/project1/taxi.ipynb\" target=\"_parent\"><img src=\"https://colab.research.google.com/assets/colab-badge.svg\" alt=\"Open In Colab\"/></a>"
      ]
    },
    {
      "cell_type": "markdown",
      "source": [
        "<b>Primeiro Desafio Kaggle competition do curso de Introdução a Machine Learnig\n",
        "</b><p> Neste desafio foram disponibilizados dois arquivos csv, um com os dados para análise e treino do modelo, e outro para testar e aplicar o modelo. \n",
        "<p>O resultado será submetido à competição do Kaggle"
      ],
      "metadata": {
        "id": "KXpdm7nD8w20"
      }
    },
    {
      "cell_type": "markdown",
      "source": [
        "# Modelo Previsão de Tarifa de Táxi \n",
        "Vamos trabalhar aqui com parte de um dataset disponibilizado pelo departamento de transportes da cidade de Chicago que pode ser visualizado em sua totalidade atualmente com cerca de 195 milhões de registros [nesse link](https://data.cityofchicago.org/Transportation/Taxi-Trips/wrvz-psew).\n",
        "\n",
        "Os dados tratam de corridas de taxi registrando basicamente, do ponto de vista geográfico, datas e localidades de partidas e chegadas e, pela perspectiva financeira, preços, custos extras, gorjetas e meio de pagamento."
      ],
      "metadata": {
        "id": "SLxfNAQzqJeD"
      }
    },
    {
      "cell_type": "code",
      "execution_count": null,
      "metadata": {
        "id": "9ASP04IlNpnM"
      },
      "outputs": [],
      "source": [
        "#import bibliotecas\n",
        "\n",
        "import pandas as pd\n",
        "import numpy as np\n",
        "import seaborn as sns\n",
        "import matplotlib.pyplot as plt\n"
      ]
    },
    {
      "cell_type": "code",
      "execution_count": null,
      "metadata": {
        "id": "ofY_gZh0OFuA"
      },
      "outputs": [],
      "source": [
        "#import dataframe \n",
        "df_original=pd.read_csv('https://drive.google.com/u/0/uc?id=1g1Kg9Mi_eionbjIsBhRqqmhoLHEhmred&export=download', sep=',')"
      ]
    },
    {
      "cell_type": "code",
      "source": [
        "#Verifycation data type and possíveis missing\n",
        "df_original.info()"
      ],
      "metadata": {
        "colab": {
          "base_uri": "https://localhost:8080/"
        },
        "id": "1QeAMV1MxYKM",
        "outputId": "414ca494-cacd-4578-f39b-f5870dfdb432"
      },
      "execution_count": null,
      "outputs": [
        {
          "output_type": "stream",
          "name": "stdout",
          "text": [
            "<class 'pandas.core.frame.DataFrame'>\n",
            "RangeIndex: 30000 entries, 0 to 29999\n",
            "Data columns (total 24 columns):\n",
            " #   Column                  Non-Null Count  Dtype  \n",
            "---  ------                  --------------  -----  \n",
            " 0   unique_key              30000 non-null  object \n",
            " 1   taxi_id                 29998 non-null  object \n",
            " 2   trip_start_timestamp    30000 non-null  object \n",
            " 3   trip_end_timestamp      29996 non-null  object \n",
            " 4   trip_seconds            29805 non-null  float64\n",
            " 5   trip_miles              30000 non-null  float64\n",
            " 6   pickup_census_tract     19663 non-null  float64\n",
            " 7   dropoff_census_tract    19559 non-null  float64\n",
            " 8   pickup_community_area   26445 non-null  float64\n",
            " 9   dropoff_community_area  25919 non-null  float64\n",
            " 10  fare                    29999 non-null  float64\n",
            " 11  tips                    29999 non-null  float64\n",
            " 12  tolls                   24933 non-null  float64\n",
            " 13  extras                  29999 non-null  float64\n",
            " 14  trip_total              29999 non-null  float64\n",
            " 15  payment_type            30000 non-null  object \n",
            " 16  company                 24829 non-null  object \n",
            " 17  pickup_latitude         26449 non-null  float64\n",
            " 18  pickup_longitude        26449 non-null  float64\n",
            " 19  pickup_location         26449 non-null  object \n",
            " 20  dropoff_latitude        26007 non-null  float64\n",
            " 21  dropoff_longitude       26007 non-null  float64\n",
            " 22  dropoff_location        26007 non-null  object \n",
            " 23  ride_date               30000 non-null  object \n",
            "dtypes: float64(15), object(9)\n",
            "memory usage: 5.5+ MB\n"
          ]
        }
      ]
    },
    {
      "cell_type": "code",
      "source": [
        "#count missing\n",
        "df_original.isnull().sum().sort_values(ascending=True)"
      ],
      "metadata": {
        "colab": {
          "base_uri": "https://localhost:8080/"
        },
        "id": "SXzXXAC7xnRT",
        "outputId": "f87a6587-45de-42c2-8415-7f050f74b898"
      },
      "execution_count": null,
      "outputs": [
        {
          "output_type": "execute_result",
          "data": {
            "text/plain": [
              "unique_key                    0\n",
              "payment_type                  0\n",
              "trip_miles                    0\n",
              "ride_date                     0\n",
              "trip_start_timestamp          0\n",
              "extras                        1\n",
              "trip_total                    1\n",
              "fare                          1\n",
              "tips                          1\n",
              "taxi_id                       2\n",
              "trip_end_timestamp            4\n",
              "trip_seconds                195\n",
              "pickup_latitude            3551\n",
              "pickup_longitude           3551\n",
              "pickup_location            3551\n",
              "pickup_community_area      3555\n",
              "dropoff_location           3993\n",
              "dropoff_latitude           3993\n",
              "dropoff_longitude          3993\n",
              "dropoff_community_area     4081\n",
              "tolls                      5067\n",
              "company                    5171\n",
              "pickup_census_tract       10337\n",
              "dropoff_census_tract      10441\n",
              "dtype: int64"
            ]
          },
          "metadata": {},
          "execution_count": 4
        }
      ]
    },
    {
      "cell_type": "markdown",
      "source": [
        "##1ª Parte - Exploração Inicial sem missing\n",
        "Neste parte, delet de dados missing e algumas explorações"
      ],
      "metadata": {
        "id": "q5yZ8DE2yxRU"
      }
    },
    {
      "cell_type": "code",
      "execution_count": null,
      "metadata": {
        "colab": {
          "base_uri": "https://localhost:8080/"
        },
        "id": "OXhAX2q5PlSW",
        "outputId": "96063745-f8a0-48aa-ccf3-1a21469e175c"
      },
      "outputs": [
        {
          "output_type": "stream",
          "name": "stdout",
          "text": [
            "<class 'pandas.core.frame.DataFrame'>\n",
            "Int64Index: 12986 entries, 0 to 29998\n",
            "Data columns (total 24 columns):\n",
            " #   Column                  Non-Null Count  Dtype  \n",
            "---  ------                  --------------  -----  \n",
            " 0   unique_key              12986 non-null  object \n",
            " 1   taxi_id                 12986 non-null  object \n",
            " 2   trip_start_timestamp    12986 non-null  object \n",
            " 3   trip_end_timestamp      12986 non-null  object \n",
            " 4   trip_seconds            12986 non-null  float64\n",
            " 5   trip_miles              12986 non-null  float64\n",
            " 6   pickup_census_tract     12986 non-null  float64\n",
            " 7   dropoff_census_tract    12986 non-null  float64\n",
            " 8   pickup_community_area   12986 non-null  float64\n",
            " 9   dropoff_community_area  12986 non-null  float64\n",
            " 10  fare                    12986 non-null  float64\n",
            " 11  tips                    12986 non-null  float64\n",
            " 12  tolls                   12986 non-null  float64\n",
            " 13  extras                  12986 non-null  float64\n",
            " 14  trip_total              12986 non-null  float64\n",
            " 15  payment_type            12986 non-null  object \n",
            " 16  company                 12986 non-null  object \n",
            " 17  pickup_latitude         12986 non-null  float64\n",
            " 18  pickup_longitude        12986 non-null  float64\n",
            " 19  pickup_location         12986 non-null  object \n",
            " 20  dropoff_latitude        12986 non-null  float64\n",
            " 21  dropoff_longitude       12986 non-null  float64\n",
            " 22  dropoff_location        12986 non-null  object \n",
            " 23  ride_date               12986 non-null  object \n",
            "dtypes: float64(15), object(9)\n",
            "memory usage: 2.5+ MB\n"
          ]
        }
      ],
      "source": [
        "#Drop missing\n",
        "df_nonan=df_original.dropna()\n",
        "df_nonan.info()"
      ]
    },
    {
      "cell_type": "markdown",
      "source": [
        "<p>Before: number of rows was 30000</p>\n",
        "<p>After: number of rows is  12986 </p> <p>Only <b>43% of original sample</b></p>\n"
      ],
      "metadata": {
        "id": "XubAuxhFz3OQ"
      }
    },
    {
      "cell_type": "markdown",
      "source": [
        "### Plots and Analisys"
      ],
      "metadata": {
        "id": "_U5ki5205yHf"
      }
    },
    {
      "cell_type": "markdown",
      "source": [
        "<p>Our goal is to predict the fare, so let's look at it and its relationships</p>\n",
        "<p><b>Potential rate influencers:</b></p>\n",
        "'trip seconds','trip miles','company','fare','trip start timestamp','tips','pickup_community_area','trip_total','extras','tolls'\n"
      ],
      "metadata": {
        "id": "fWYxGq1v9b39"
      }
    },
    {
      "cell_type": "code",
      "source": [
        "df_nonan.reset_index(inplace=True)"
      ],
      "metadata": {
        "id": "f7kp5Gl-BRM3"
      },
      "execution_count": null,
      "outputs": []
    },
    {
      "cell_type": "code",
      "source": [
        "#Split time and data\n",
        "data_time=df_nonan.trip_start_timestamp.str.split(' ',expand=True)\n",
        "data_time.rename({0:'start_trip_data',1:'start_trip_time'},axis=1,inplace=True)\n",
        "\n",
        "#Insert new columns - start_trip_data and start_trip_time\n",
        "df_nonan.insert(3,'start_trip_data',data_time['start_trip_data'])\n",
        "df_nonan.insert(4,'start_trip_time',data_time['start_trip_time'])\n",
        "\n",
        "#drop old column - trip_start_timestamp\n",
        "df_nonan.drop(['trip_start_timestamp'],axis=1,inplace=True)\n",
        "df_nonan.info()"
      ],
      "metadata": {
        "colab": {
          "base_uri": "https://localhost:8080/"
        },
        "id": "Fvx4vm_wwITX",
        "outputId": "4fa7b821-ef2e-4544-c409-1fc3144c7285"
      },
      "execution_count": null,
      "outputs": [
        {
          "output_type": "stream",
          "name": "stdout",
          "text": [
            "<class 'pandas.core.frame.DataFrame'>\n",
            "RangeIndex: 12986 entries, 0 to 12985\n",
            "Data columns (total 26 columns):\n",
            " #   Column                  Non-Null Count  Dtype  \n",
            "---  ------                  --------------  -----  \n",
            " 0   index                   12986 non-null  int64  \n",
            " 1   unique_key              12986 non-null  object \n",
            " 2   taxi_id                 12986 non-null  object \n",
            " 3   start_trip_data         12986 non-null  object \n",
            " 4   start_trip_time         12986 non-null  object \n",
            " 5   trip_end_timestamp      12986 non-null  object \n",
            " 6   trip_seconds            12986 non-null  float64\n",
            " 7   trip_miles              12986 non-null  float64\n",
            " 8   pickup_census_tract     12986 non-null  float64\n",
            " 9   dropoff_census_tract    12986 non-null  float64\n",
            " 10  pickup_community_area   12986 non-null  float64\n",
            " 11  dropoff_community_area  12986 non-null  float64\n",
            " 12  fare                    12986 non-null  float64\n",
            " 13  tips                    12986 non-null  float64\n",
            " 14  tolls                   12986 non-null  float64\n",
            " 15  extras                  12986 non-null  float64\n",
            " 16  trip_total              12986 non-null  float64\n",
            " 17  payment_type            12986 non-null  object \n",
            " 18  company                 12986 non-null  object \n",
            " 19  pickup_latitude         12986 non-null  float64\n",
            " 20  pickup_longitude        12986 non-null  float64\n",
            " 21  pickup_location         12986 non-null  object \n",
            " 22  dropoff_latitude        12986 non-null  float64\n",
            " 23  dropoff_longitude       12986 non-null  float64\n",
            " 24  dropoff_location        12986 non-null  object \n",
            " 25  ride_date               12986 non-null  object \n",
            "dtypes: float64(15), int64(1), object(10)\n",
            "memory usage: 2.6+ MB\n"
          ]
        },
        {
          "output_type": "stream",
          "name": "stderr",
          "text": [
            "/usr/local/lib/python3.7/dist-packages/pandas/core/frame.py:4913: SettingWithCopyWarning: \n",
            "A value is trying to be set on a copy of a slice from a DataFrame\n",
            "\n",
            "See the caveats in the documentation: https://pandas.pydata.org/pandas-docs/stable/user_guide/indexing.html#returning-a-view-versus-a-copy\n",
            "  errors=errors,\n"
          ]
        }
      ]
    },
    {
      "cell_type": "code",
      "source": [
        "#Name Day \n",
        "dataname=[]\n",
        "for i in range(len(df_nonan)):\n",
        "  data=pd.Timestamp(df_nonan['start_trip_data'][i])\n",
        "  dataname.append(data.weekday())\n",
        "\n",
        "#Substituition in start_trup_data\n",
        "df_nonan['start_trip_data']=(dataname)\n",
        "print('0:Monday\\n1:Tuesday\\n2:Wednesday\\n3:Thursday\\n4:Friday\\n5:Saturday\\n6:Sunday')\n",
        "df_nonan['start_trip_data']"
      ],
      "metadata": {
        "colab": {
          "base_uri": "https://localhost:8080/"
        },
        "id": "C_2ZT6sS3jua",
        "outputId": "4f804ad1-b500-45a4-e332-21ea35435a7a"
      },
      "execution_count": null,
      "outputs": [
        {
          "output_type": "stream",
          "name": "stdout",
          "text": [
            "0:Monday\n",
            "1:Tuesday\n",
            "2:Wednesday\n",
            "3:Thursday\n",
            "4:Friday\n",
            "5:Saturday\n",
            "6:Sunday\n"
          ]
        },
        {
          "output_type": "stream",
          "name": "stderr",
          "text": [
            "/usr/local/lib/python3.7/dist-packages/ipykernel_launcher.py:8: SettingWithCopyWarning: \n",
            "A value is trying to be set on a copy of a slice from a DataFrame.\n",
            "Try using .loc[row_indexer,col_indexer] = value instead\n",
            "\n",
            "See the caveats in the documentation: https://pandas.pydata.org/pandas-docs/stable/user_guide/indexing.html#returning-a-view-versus-a-copy\n",
            "  \n"
          ]
        },
        {
          "output_type": "execute_result",
          "data": {
            "text/plain": [
              "0        6\n",
              "1        5\n",
              "2        5\n",
              "3        0\n",
              "4        2\n",
              "        ..\n",
              "12981    4\n",
              "12982    4\n",
              "12983    1\n",
              "12984    2\n",
              "12985    2\n",
              "Name: start_trip_data, Length: 12986, dtype: int64"
            ]
          },
          "metadata": {},
          "execution_count": 8
        }
      ]
    },
    {
      "cell_type": "code",
      "source": [
        "#columns of analisys\n",
        "columns=['trip_seconds','trip_miles','company','fare','start_trip_data','start_trip_time','tips','pickup_community_area','trip_total','extras','tolls']"
      ],
      "metadata": {
        "id": "BtHzc4UwY7n3"
      },
      "execution_count": null,
      "outputs": []
    },
    {
      "cell_type": "code",
      "source": [
        "#vamos verificar como o horário influencia na  fare\n",
        "#vamos dividir as horad do dia em 4 grupos: 0=[0,6),1=[6,12),2=[12,18),3=[18,24)\n",
        "for i in range(len(df_nonan)):\n",
        "  a=int(df_nonan['start_trip_time'][i][0:2])\n",
        "  if a in [0,1,2,3,4,5]:\n",
        "    df_nonan['start_trip_time'][i]=0\n",
        "  elif a in [6,7,8,9,10,11]:\n",
        "    df_nonan['start_trip_time'][i]=1\n",
        "  elif a in [12,13,14,15,16,17]:\n",
        "    df_nonan['start_trip_time'][i]=2\n",
        "  else:\n",
        "    df_nonan['start_trip_time'][i]=3"
      ],
      "metadata": {
        "colab": {
          "base_uri": "https://localhost:8080/"
        },
        "id": "fDnFymePAuGC",
        "outputId": "9e4742b7-59d0-4b39-c216-a2b164ccf0cd"
      },
      "execution_count": null,
      "outputs": [
        {
          "output_type": "stream",
          "name": "stderr",
          "text": [
            "/usr/local/lib/python3.7/dist-packages/ipykernel_launcher.py:6: SettingWithCopyWarning: \n",
            "A value is trying to be set on a copy of a slice from a DataFrame\n",
            "\n",
            "See the caveats in the documentation: https://pandas.pydata.org/pandas-docs/stable/user_guide/indexing.html#returning-a-view-versus-a-copy\n",
            "  \n",
            "/usr/local/lib/python3.7/dist-packages/ipykernel_launcher.py:12: SettingWithCopyWarning: \n",
            "A value is trying to be set on a copy of a slice from a DataFrame\n",
            "\n",
            "See the caveats in the documentation: https://pandas.pydata.org/pandas-docs/stable/user_guide/indexing.html#returning-a-view-versus-a-copy\n",
            "  if sys.path[0] == '':\n",
            "/usr/local/lib/python3.7/dist-packages/ipykernel_launcher.py:8: SettingWithCopyWarning: \n",
            "A value is trying to be set on a copy of a slice from a DataFrame\n",
            "\n",
            "See the caveats in the documentation: https://pandas.pydata.org/pandas-docs/stable/user_guide/indexing.html#returning-a-view-versus-a-copy\n",
            "  \n",
            "/usr/local/lib/python3.7/dist-packages/ipykernel_launcher.py:10: SettingWithCopyWarning: \n",
            "A value is trying to be set on a copy of a slice from a DataFrame\n",
            "\n",
            "See the caveats in the documentation: https://pandas.pydata.org/pandas-docs/stable/user_guide/indexing.html#returning-a-view-versus-a-copy\n",
            "  # Remove the CWD from sys.path while we load stuff.\n"
          ]
        }
      ]
    },
    {
      "cell_type": "code",
      "source": [
        "fig, ax = plt.subplots(2,4,figsize=(24, 12),squeeze=True)\n",
        "ax[0][0].scatter(df_nonan.trip_seconds,df_nonan.fare)\n",
        "ax[0][0].set_xlabel('Trip Second',size=12)\n",
        "ax[0][0].set_ylabel('Fare',size=14)\n",
        "ax[0][1].scatter(df_nonan.start_trip_data,df_nonan.fare,)\n",
        "ax[0][1].set_xlabel('Start_data',size=12)\n",
        "ax[0][2].scatter(df_nonan.start_trip_time,df_nonan.fare,)\n",
        "ax[0][2].set_xlabel('start_time',size=12)\n",
        "ax[0][3].scatter(df_nonan.tips,df_nonan.fare,)\n",
        "ax[0][3].set_xlabel('Tips',size=12)\n",
        "ax[1][0].scatter(df_nonan.pickup_community_area,df_nonan.fare)\n",
        "ax[1][0].set_xlabel('Pickup community',size=12)\n",
        "ax[1][1].scatter(df_nonan.trip_total,df_nonan.fare,)\n",
        "ax[1][1].set_xlabel('Trip Total',size=12)\n",
        "ax[1][2].scatter(df_nonan.extras,df_nonan.fare,)\n",
        "ax[1][2].set_xlabel('Extras',size=12)\n",
        "ax[1][3].scatter(df_nonan.trip_miles,df_nonan.fare,)\n",
        "ax[1][3].set_xlabel('Miles',size=12)\n",
        "plt.suptitle('Distibuition for Fare',fontsize=20)\n",
        "plt.show()"
      ],
      "metadata": {
        "colab": {
          "base_uri": "https://localhost:8080/",
          "height": 634
        },
        "id": "J0ShMumo8gWQ",
        "outputId": "ce8dce17-1307-4abb-d9ff-c0550bab3cab"
      },
      "execution_count": null,
      "outputs": [
        {
          "output_type": "display_data",
          "data": {
            "text/plain": [
              "<Figure size 1728x864 with 8 Axes>"
            ],
            "image/png": "[encoded data removed]"
          },
          "metadata": {
            "needs_background": "light"
          }
        }
      ]
    },
    {
      "cell_type": "code",
      "source": [
        "#Fare median for company\n",
        "fare_median_for_company=df_nonan[['fare','company']].groupby(df_nonan.company).median().sort_values('fare',ascending=False)\n",
        "plt.figure(figsize=(15,15))\n",
        "plt.barh(fare_median_for_company['fare'].index,fare_median_for_company['fare'].values)\n",
        "plt.title('Median fare for company')"
      ],
      "metadata": {
        "colab": {
          "base_uri": "https://localhost:8080/",
          "height": 897
        },
        "id": "ADP9vGSIxL2_",
        "outputId": "ffe399d0-131e-4efd-dbd1-c1ba46efaff1"
      },
      "execution_count": null,
      "outputs": [
        {
          "output_type": "execute_result",
          "data": {
            "text/plain": [
              "Text(0.5, 1.0, 'Median fare for company')"
            ]
          },
          "metadata": {},
          "execution_count": 12
        },
        {
          "output_type": "display_data",
          "data": {
            "text/plain": [
              "<Figure size 1080x1080 with 1 Axes>"
            ],
            "image/png": "[encoded data removed]"
          },
          "metadata": {
            "needs_background": "light"
          }
        }
      ]
    },
    {
      "cell_type": "code",
      "source": [
        "#Distribuition fare\n",
        "fig,axs = plt.subplots(2,figsize=(10,15))\n",
        "\n",
        "axs[0].violinplot(fare_median_for_company['fare'].values,showmedians=True);\n",
        "axs[0].plot([0.8,1.2],[fare_median_for_company.mean(),fare_median_for_company.mean()],label='Mean')\n",
        "axs[0].set_ylabel('Fare')\n",
        "axs[0].legend()\n",
        "axs[0].set_title('Distribuition of median fare for company')\n",
        "\n",
        "axs[1].hist(df_nonan['fare'].values,bins=30);\n",
        "axs[1].plot([0.8,1.2],[df_nonan['fare'].mean(),df_nonan['fare'].mean()],label=\"Median\")\n",
        "axs[1].set_xlabel('Fare')\n",
        "axs[1].set_ylabel('Count')\n",
        "axs[1].legend()\n",
        "axs[1].set_title('Distribuition of fare')\n",
        "\n",
        "plt.show(),\n",
        "print('Median Fare for company:\\n',fare_median_for_company['fare'].values)\n",
        "print('Median:' ,fare_median_for_company['fare'].values[42])\n",
        "print('Mean: ',fare_median_for_company['fare'].values.mean())\n",
        "print('Desvio Padrão: ',fare_median_for_company['fare'].values.std())"
      ],
      "metadata": {
        "colab": {
          "base_uri": "https://localhost:8080/",
          "height": 1000
        },
        "id": "LtKTazXsiWMn",
        "outputId": "61e1748e-06e9-471c-c6da-6b8f663dc0e9"
      },
      "execution_count": null,
      "outputs": [
        {
          "output_type": "display_data",
          "data": {
            "text/plain": [
              "<Figure size 720x1080 with 2 Axes>"
            ],
            "image/png": "[encoded data removed]"
          },
          "metadata": {
            "needs_background": "light"
          }
        },
        {
          "output_type": "stream",
          "name": "stdout",
          "text": [
            "Median Fare for company:\n",
            " [49.75  44.5   42.25  37.25  36.85  30.25  29.75  29.45  29.25  28.35\n",
            " 26.65  24.    16.5   16.45  13.25  11.65  10.75  10.75  10.5   10.45\n",
            " 10.25  10.25   9.5    9.25   9.     8.975  8.875  8.625  8.5    8.25\n",
            "  8.225  8.05   8.05   8.     8.     8.     7.85   7.75   7.75   7.75\n",
            "  7.75   7.75   7.75   7.65   7.65   7.575  7.5    7.5    7.5    7.5\n",
            "  7.5    7.5    7.25   7.25   7.25   7.25   7.25   7.25   7.25   7.25\n",
            "  7.25   7.25   7.25   7.05   7.     6.85   6.75   6.25   6.05   6.\n",
            "  5.85   5.625  5.625  5.5    5.375  5.25   5.25   5.     4.95   4.85\n",
            "  4.65   3.25   3.25 ]\n",
            "Median: 7.75\n",
            "Mean:  11.575301204819278\n",
            "Desvio Padrão:  9.912421845189323\n"
          ]
        }
      ]
    },
    {
      "cell_type": "markdown",
      "source": [
        "Constatações:\n",
        "<p>1) trip_second e trip total vemos claramente uma tendência linear com a tarifa\n",
        "<p>2) tips e extras parecem ter alguma relação intermediária com a tarifa\n",
        "<p>3) vemos também que há muitos tips e extras com valor 0\n",
        "<p>4) extras a partir de 20 a tarifa é 0 \n",
        "<p>5) Miles parece ter 3 diferentes tendencias lineares com a tarifa\n",
        "<p>6) Valor mediano da tarifa 7.75\n",
        "<p>7) Os horários não apresentam muita influencia na tarifa\n",
        "<p>8) As datas não apresentam muita influência na tarifa\n",
        "<p>_____\n",
        "<p>Portanto vamos tirar do modelo date e time\n",
        "<p>_____\n",
        "<p>Vamos utilizar: trip_total , extras , tips e tolls para prever a tarifa <b>fare</b> da seguinte forma:\n",
        "<p> fare=(trip_total) - (extras) - (tips) - (tolls)\n",
        "<p>Vamos utilizar trip_seconds e trip_miles para prever missing das variáveis da equação acima."
      ],
      "metadata": {
        "id": "jPxhhJXESXFY"
      }
    },
    {
      "cell_type": "code",
      "source": [
        "#Verificando valores de Tolls\n",
        "df_nonan.loc[(df_nonan.tolls!=0),columns]"
      ],
      "metadata": {
        "colab": {
          "base_uri": "https://localhost:8080/",
          "height": 49
        },
        "id": "zeAhYzvVb3Ns",
        "outputId": "5ebab96d-6da6-4db4-d21c-a752b3e952a9"
      },
      "execution_count": null,
      "outputs": [
        {
          "output_type": "execute_result",
          "data": {
            "text/plain": [
              "Empty DataFrame\n",
              "Columns: [trip_seconds, trip_miles, company, fare, start_trip_data, start_trip_time, tips, pickup_community_area, trip_total, extras, tolls]\n",
              "Index: []"
            ],
            "text/html": [
              "\n",
              "  <div id=\"df-6a1e08b3-0553-4ef5-a2de-45eaccc33307\">\n",
              "    <div class=\"colab-df-container\">\n",
              "      <div>\n",
              "<style scoped>\n",
              "    .dataframe tbody tr th:only-of-type {\n",
              "        vertical-align: middle;\n",
              "    }\n",
              "\n",
              "    .dataframe tbody tr th {\n",
              "        vertical-align: top;\n",
              "    }\n",
              "\n",
              "    .dataframe thead th {\n",
              "        text-align: right;\n",
              "    }\n",
              "</style>\n",
              "<table border=\"1\" class=\"dataframe\">\n",
              "  <thead>\n",
              "    <tr style=\"text-align: right;\">\n",
              "      <th></th>\n",
              "      <th>trip_seconds</th>\n",
              "      <th>trip_miles</th>\n",
              "      <th>company</th>\n",
              "      <th>fare</th>\n",
              "      <th>start_trip_data</th>\n",
              "      <th>start_trip_time</th>\n",
              "      <th>tips</th>\n",
              "      <th>pickup_community_area</th>\n",
              "      <th>trip_total</th>\n",
              "      <th>extras</th>\n",
              "      <th>tolls</th>\n",
              "    </tr>\n",
              "  </thead>\n",
              "  <tbody>\n",
              "  </tbody>\n",
              "</table>\n",
              "</div>\n",
              "      <button class=\"colab-df-convert\" onclick=\"convertToInteractive('df-6a1e08b3-0553-4ef5-a2de-45eaccc33307')\"\n",
              "              title=\"Convert this dataframe to an interactive table.\"\n",
              "              style=\"display:none;\">\n",
              "        \n",
              "  <svg xmlns=\"http://www.w3.org/2000/svg\" height=\"24px\"viewBox=\"0 0 24 24\"\n",
              "       width=\"24px\">\n",
              "    <path d=\"M0 0h24v24H0V0z\" fill=\"none\"/>\n",
              "    <path d=\"M18.56 5.44l.94 2.06.94-2.06 2.06-.94-2.06-.94-.94-2.06-.94 2.06-2.06.94zm-11 1L8.5 8.5l.94-2.06 2.06-.94-2.06-.94L8.5 2.5l-.94 2.06-2.06.94zm10 10l.94 2.06.94-2.06 2.06-.94-2.06-.94-.94-2.06-.94 2.06-2.06.94z\"/><path d=\"M17.41 7.96l-1.37-1.37c-.4-.4-.92-.59-1.43-.59-.52 0-1.04.2-1.43.59L10.3 9.45l-7.72 7.72c-.78.78-.78 2.05 0 2.83L4 21.41c.39.39.9.59 1.41.59.51 0 1.02-.2 1.41-.59l7.78-7.78 2.81-2.81c.8-.78.8-2.07 0-2.86zM5.41 20L4 18.59l7.72-7.72 1.47 1.35L5.41 20z\"/>\n",
              "  </svg>\n",
              "      </button>\n",
              "      \n",
              "  <style>\n",
              "    .colab-df-container {\n",
              "      display:flex;\n",
              "      flex-wrap:wrap;\n",
              "      gap: 12px;\n",
              "    }\n",
              "\n",
              "    .colab-df-convert {\n",
              "      background-color: #E8F0FE;\n",
              "      border: none;\n",
              "      border-radius: 50%;\n",
              "      cursor: pointer;\n",
              "      display: none;\n",
              "      fill: #1967D2;\n",
              "      height: 32px;\n",
              "      padding: 0 0 0 0;\n",
              "      width: 32px;\n",
              "    }\n",
              "\n",
              "    .colab-df-convert:hover {\n",
              "      background-color: #E2EBFA;\n",
              "      box-shadow: 0px 1px 2px rgba(60, 64, 67, 0.3), 0px 1px 3px 1px rgba(60, 64, 67, 0.15);\n",
              "      fill: #174EA6;\n",
              "    }\n",
              "\n",
              "    [theme=dark] .colab-df-convert {\n",
              "      background-color: #3B4455;\n",
              "      fill: #D2E3FC;\n",
              "    }\n",
              "\n",
              "    [theme=dark] .colab-df-convert:hover {\n",
              "      background-color: #434B5C;\n",
              "      box-shadow: 0px 1px 3px 1px rgba(0, 0, 0, 0.15);\n",
              "      filter: drop-shadow(0px 1px 2px rgba(0, 0, 0, 0.3));\n",
              "      fill: #FFFFFF;\n",
              "    }\n",
              "  </style>\n",
              "\n",
              "      <script>\n",
              "        const buttonEl =\n",
              "          document.querySelector('#df-6a1e08b3-0553-4ef5-a2de-45eaccc33307 button.colab-df-convert');\n",
              "        buttonEl.style.display =\n",
              "          google.colab.kernel.accessAllowed ? 'block' : 'none';\n",
              "\n",
              "        async function convertToInteractive(key) {\n",
              "          const element = document.querySelector('#df-6a1e08b3-0553-4ef5-a2de-45eaccc33307');\n",
              "          const dataTable =\n",
              "            await google.colab.kernel.invokeFunction('convertToInteractive',\n",
              "                                                     [key], {});\n",
              "          if (!dataTable) return;\n",
              "\n",
              "          const docLinkHtml = 'Like what you see? Visit the ' +\n",
              "            '<a target=\"_blank\" href=https://colab.research.google.com/notebooks/data_table.ipynb>data table notebook</a>'\n",
              "            + ' to learn more about interactive tables.';\n",
              "          element.innerHTML = '';\n",
              "          dataTable['output_type'] = 'display_data';\n",
              "          await google.colab.output.renderOutput(dataTable, element);\n",
              "          const docLink = document.createElement('div');\n",
              "          docLink.innerHTML = docLinkHtml;\n",
              "          element.appendChild(docLink);\n",
              "        }\n",
              "      </script>\n",
              "    </div>\n",
              "  </div>\n",
              "  "
            ]
          },
          "metadata": {},
          "execution_count": 14
        }
      ]
    },
    {
      "cell_type": "markdown",
      "source": [
        "Preencheremos os NAN de Tolls com zero\n"
      ],
      "metadata": {
        "id": "5DS-c8BjiUYX"
      }
    },
    {
      "cell_type": "markdown",
      "source": [
        "## 2ª Parte - Ajustando para o Modelo"
      ],
      "metadata": {
        "id": "PnE-_IKFYNe3"
      }
    },
    {
      "cell_type": "code",
      "execution_count": null,
      "metadata": {
        "id": "nMq43T8ZQ6zr"
      },
      "outputs": [],
      "source": [
        "#columns definition\n",
        "X=['trip_seconds','trip_miles','trip_total','tips','extras','tolls']\n",
        "y=['fare']"
      ]
    },
    {
      "cell_type": "code",
      "execution_count": null,
      "metadata": {
        "colab": {
          "base_uri": "https://localhost:8080/"
        },
        "id": "HJ3gnjw7UDBc",
        "outputId": "14529a6b-7822-4d20-ae9d-23db9093eb37"
      },
      "outputs": [
        {
          "output_type": "execute_result",
          "data": {
            "text/plain": [
              "trip_seconds     195\n",
              "trip_miles         0\n",
              "trip_total         1\n",
              "tips               1\n",
              "extras             1\n",
              "tolls           5067\n",
              "dtype: int64"
            ]
          },
          "metadata": {},
          "execution_count": 16
        }
      ],
      "source": [
        "df_original[X].isnull().sum()"
      ]
    },
    {
      "cell_type": "code",
      "source": [
        "df_original[X].describe()"
      ],
      "metadata": {
        "colab": {
          "base_uri": "https://localhost:8080/",
          "height": 300
        },
        "id": "rKjVpX5KbD2f",
        "outputId": "e3c3dfa5-6311-45d3-d9ad-35ddc99fc7f6"
      },
      "execution_count": null,
      "outputs": [
        {
          "output_type": "execute_result",
          "data": {
            "text/plain": [
              "       trip_seconds    trip_miles    trip_total          tips        extras  \\\n",
              "count  29805.000000  30000.000000  29999.000000  29999.000000  29999.000000   \n",
              "mean     798.112833      3.237427     15.191000      1.402873      0.867869   \n",
              "std     1507.877805      6.297811     15.147028      2.640751      2.742169   \n",
              "min        0.000000      0.000000      0.000000      0.000000      0.000000   \n",
              "25%      310.000000      0.200000      7.000000      0.000000      0.000000   \n",
              "50%      540.000000      1.190000      9.650000      0.000000      0.000000   \n",
              "75%      960.000000      3.000000     15.450000      2.000000      1.000000   \n",
              "max    86386.000000    247.000000    274.350000     63.000000     99.500000   \n",
              "\n",
              "              tolls  \n",
              "count  24933.000000  \n",
              "mean       0.001043  \n",
              "std        0.055194  \n",
              "min        0.000000  \n",
              "25%        0.000000  \n",
              "50%        0.000000  \n",
              "75%        0.000000  \n",
              "max        4.000000  "
            ],
            "text/html": [
              "\n",
              "  <div id=\"df-9cf4ef58-3547-4a35-a603-4d20bd853778\">\n",
              "    <div class=\"colab-df-container\">\n",
              "      <div>\n",
              "<style scoped>\n",
              "    .dataframe tbody tr th:only-of-type {\n",
              "        vertical-align: middle;\n",
              "    }\n",
              "\n",
              "    .dataframe tbody tr th {\n",
              "        vertical-align: top;\n",
              "    }\n",
              "\n",
              "    .dataframe thead th {\n",
              "        text-align: right;\n",
              "    }\n",
              "</style>\n",
              "<table border=\"1\" class=\"dataframe\">\n",
              "  <thead>\n",
              "    <tr style=\"text-align: right;\">\n",
              "      <th></th>\n",
              "      <th>trip_seconds</th>\n",
              "      <th>trip_miles</th>\n",
              "      <th>trip_total</th>\n",
              "      <th>tips</th>\n",
              "      <th>extras</th>\n",
              "      <th>tolls</th>\n",
              "    </tr>\n",
              "  </thead>\n",
              "  <tbody>\n",
              "    <tr>\n",
              "      <th>count</th>\n",
              "      <td>29805.000000</td>\n",
              "      <td>30000.000000</td>\n",
              "      <td>29999.000000</td>\n",
              "      <td>29999.000000</td>\n",
              "      <td>29999.000000</td>\n",
              "      <td>24933.000000</td>\n",
              "    </tr>\n",
              "    <tr>\n",
              "      <th>mean</th>\n",
              "      <td>798.112833</td>\n",
              "      <td>3.237427</td>\n",
              "      <td>15.191000</td>\n",
              "      <td>1.402873</td>\n",
              "      <td>0.867869</td>\n",
              "      <td>0.001043</td>\n",
              "    </tr>\n",
              "    <tr>\n",
              "      <th>std</th>\n",
              "      <td>1507.877805</td>\n",
              "      <td>6.297811</td>\n",
              "      <td>15.147028</td>\n",
              "      <td>2.640751</td>\n",
              "      <td>2.742169</td>\n",
              "      <td>0.055194</td>\n",
              "    </tr>\n",
              "    <tr>\n",
              "      <th>min</th>\n",
              "      <td>0.000000</td>\n",
              "      <td>0.000000</td>\n",
              "      <td>0.000000</td>\n",
              "      <td>0.000000</td>\n",
              "      <td>0.000000</td>\n",
              "      <td>0.000000</td>\n",
              "    </tr>\n",
              "    <tr>\n",
              "      <th>25%</th>\n",
              "      <td>310.000000</td>\n",
              "      <td>0.200000</td>\n",
              "      <td>7.000000</td>\n",
              "      <td>0.000000</td>\n",
              "      <td>0.000000</td>\n",
              "      <td>0.000000</td>\n",
              "    </tr>\n",
              "    <tr>\n",
              "      <th>50%</th>\n",
              "      <td>540.000000</td>\n",
              "      <td>1.190000</td>\n",
              "      <td>9.650000</td>\n",
              "      <td>0.000000</td>\n",
              "      <td>0.000000</td>\n",
              "      <td>0.000000</td>\n",
              "    </tr>\n",
              "    <tr>\n",
              "      <th>75%</th>\n",
              "      <td>960.000000</td>\n",
              "      <td>3.000000</td>\n",
              "      <td>15.450000</td>\n",
              "      <td>2.000000</td>\n",
              "      <td>1.000000</td>\n",
              "      <td>0.000000</td>\n",
              "    </tr>\n",
              "    <tr>\n",
              "      <th>max</th>\n",
              "      <td>86386.000000</td>\n",
              "      <td>247.000000</td>\n",
              "      <td>274.350000</td>\n",
              "      <td>63.000000</td>\n",
              "      <td>99.500000</td>\n",
              "      <td>4.000000</td>\n",
              "    </tr>\n",
              "  </tbody>\n",
              "</table>\n",
              "</div>\n",
              "      <button class=\"colab-df-convert\" onclick=\"convertToInteractive('df-9cf4ef58-3547-4a35-a603-4d20bd853778')\"\n",
              "              title=\"Convert this dataframe to an interactive table.\"\n",
              "              style=\"display:none;\">\n",
              "        \n",
              "  <svg xmlns=\"http://www.w3.org/2000/svg\" height=\"24px\"viewBox=\"0 0 24 24\"\n",
              "       width=\"24px\">\n",
              "    <path d=\"M0 0h24v24H0V0z\" fill=\"none\"/>\n",
              "    <path d=\"M18.56 5.44l.94 2.06.94-2.06 2.06-.94-2.06-.94-.94-2.06-.94 2.06-2.06.94zm-11 1L8.5 8.5l.94-2.06 2.06-.94-2.06-.94L8.5 2.5l-.94 2.06-2.06.94zm10 10l.94 2.06.94-2.06 2.06-.94-2.06-.94-.94-2.06-.94 2.06-2.06.94z\"/><path d=\"M17.41 7.96l-1.37-1.37c-.4-.4-.92-.59-1.43-.59-.52 0-1.04.2-1.43.59L10.3 9.45l-7.72 7.72c-.78.78-.78 2.05 0 2.83L4 21.41c.39.39.9.59 1.41.59.51 0 1.02-.2 1.41-.59l7.78-7.78 2.81-2.81c.8-.78.8-2.07 0-2.86zM5.41 20L4 18.59l7.72-7.72 1.47 1.35L5.41 20z\"/>\n",
              "  </svg>\n",
              "      </button>\n",
              "      \n",
              "  <style>\n",
              "    .colab-df-container {\n",
              "      display:flex;\n",
              "      flex-wrap:wrap;\n",
              "      gap: 12px;\n",
              "    }\n",
              "\n",
              "    .colab-df-convert {\n",
              "      background-color: #E8F0FE;\n",
              "      border: none;\n",
              "      border-radius: 50%;\n",
              "      cursor: pointer;\n",
              "      display: none;\n",
              "      fill: #1967D2;\n",
              "      height: 32px;\n",
              "      padding: 0 0 0 0;\n",
              "      width: 32px;\n",
              "    }\n",
              "\n",
              "    .colab-df-convert:hover {\n",
              "      background-color: #E2EBFA;\n",
              "      box-shadow: 0px 1px 2px rgba(60, 64, 67, 0.3), 0px 1px 3px 1px rgba(60, 64, 67, 0.15);\n",
              "      fill: #174EA6;\n",
              "    }\n",
              "\n",
              "    [theme=dark] .colab-df-convert {\n",
              "      background-color: #3B4455;\n",
              "      fill: #D2E3FC;\n",
              "    }\n",
              "\n",
              "    [theme=dark] .colab-df-convert:hover {\n",
              "      background-color: #434B5C;\n",
              "      box-shadow: 0px 1px 3px 1px rgba(0, 0, 0, 0.15);\n",
              "      filter: drop-shadow(0px 1px 2px rgba(0, 0, 0, 0.3));\n",
              "      fill: #FFFFFF;\n",
              "    }\n",
              "  </style>\n",
              "\n",
              "      <script>\n",
              "        const buttonEl =\n",
              "          document.querySelector('#df-9cf4ef58-3547-4a35-a603-4d20bd853778 button.colab-df-convert');\n",
              "        buttonEl.style.display =\n",
              "          google.colab.kernel.accessAllowed ? 'block' : 'none';\n",
              "\n",
              "        async function convertToInteractive(key) {\n",
              "          const element = document.querySelector('#df-9cf4ef58-3547-4a35-a603-4d20bd853778');\n",
              "          const dataTable =\n",
              "            await google.colab.kernel.invokeFunction('convertToInteractive',\n",
              "                                                     [key], {});\n",
              "          if (!dataTable) return;\n",
              "\n",
              "          const docLinkHtml = 'Like what you see? Visit the ' +\n",
              "            '<a target=\"_blank\" href=https://colab.research.google.com/notebooks/data_table.ipynb>data table notebook</a>'\n",
              "            + ' to learn more about interactive tables.';\n",
              "          element.innerHTML = '';\n",
              "          dataTable['output_type'] = 'display_data';\n",
              "          await google.colab.output.renderOutput(dataTable, element);\n",
              "          const docLink = document.createElement('div');\n",
              "          docLink.innerHTML = docLinkHtml;\n",
              "          element.appendChild(docLink);\n",
              "        }\n",
              "      </script>\n",
              "    </div>\n",
              "  </div>\n",
              "  "
            ]
          },
          "metadata": {},
          "execution_count": 17
        }
      ]
    },
    {
      "cell_type": "markdown",
      "source": [
        "Verificamos a presença de outliers"
      ],
      "metadata": {
        "id": "cePet19-ceps"
      }
    },
    {
      "cell_type": "markdown",
      "source": [
        "### Tratando os Outliers"
      ],
      "metadata": {
        "id": "FdsmxS-mcsQg"
      }
    },
    {
      "cell_type": "markdown",
      "source": [
        "Definition: Outlier > Q3+1.5*(Q3-Q1)"
      ],
      "metadata": {
        "id": "fBhbbNEFdu6r"
      }
    },
    {
      "cell_type": "code",
      "source": [
        "#Create df no outliers\n",
        "def df_drop_out(x):\n",
        "  \n",
        "  '''x é uma lista com os nomes das colunas a terem seus outliers tratados\n",
        "  Irá mostrar Boxplot de cada uma das colunas tratadas e\n",
        "  return será um df sem os outliers das colunas\n",
        "  exemplo: df_drop_out(['col1','col2','col3'])'''\n",
        "\n",
        "  indice=set(df_original.index) #todos os indices\n",
        "  \n",
        "  for i in range(len(x)): #iterações limitado ao tamanho da lista de entrada\n",
        "    \n",
        "    #Selection Quartile\n",
        "    quartil=np.percentile(df_original[x[i]].dropna(),[25,75])\n",
        "  \n",
        "    #Outlier\n",
        "    out=quartil[1]+(1.5*(quartil[1]-quartil[0]))\n",
        "  \n",
        "    #Drop Outliers\n",
        "    df_drop_out=df_original[X].drop(df_original.loc[(df_original[x[i]]>out)].index)\n",
        "\n",
        "    #Boxplot\n",
        "    plt.boxplot(df_drop_out[x[i]].dropna()),\n",
        "    plt.title(str('Boxplot {0}').format(x[i]))\n",
        "    plt.ylabel(x[i]),\n",
        "    plt.show()\n",
        "\n",
        "    #Seleção dos indices sem outlier\n",
        "    a=set(df_drop_out[x[i]].index) #conjunto de indice sem outlier da interação\n",
        "    indice=indice & a #conjunto de indices sem outlier interseção com conjunto de indices sem outlier da próxima interação. No final ficaram apenas os indices que não possuem outlier\n",
        "  \n",
        "  return df_original[X].loc[indice]"
      ],
      "metadata": {
        "id": "EvQZGH4O2DOG"
      },
      "execution_count": null,
      "outputs": []
    },
    {
      "cell_type": "code",
      "source": [
        "df_no_outlier=df_drop_out(['tips','extras','trip_seconds','trip_total','trip_miles','tolls'])"
      ],
      "metadata": {
        "colab": {
          "base_uri": "https://localhost:8080/",
          "height": 1000
        },
        "id": "zI7MZQeQ51pB",
        "outputId": "1f35f982-4572-486c-96e6-72d7157b3a3d"
      },
      "execution_count": null,
      "outputs": [
        {
          "output_type": "display_data",
          "data": {
            "text/plain": [
              "<Figure size 432x288 with 1 Axes>"
            ],
            "image/png": "[encoded data removed]"
          },
          "metadata": {
            "needs_background": "light"
          }
        },
        {
          "output_type": "display_data",
          "data": {
            "text/plain": [
              "<Figure size 432x288 with 1 Axes>"
            ],
            "image/png": "[encoded data removed]"
          },
          "metadata": {
            "needs_background": "light"
          }
        },
        {
          "output_type": "display_data",
          "data": {
            "text/plain": [
              "<Figure size 432x288 with 1 Axes>"
            ],
            "image/png": "[encoded data removed]"
          },
          "metadata": {
            "needs_background": "light"
          }
        },
        {
          "output_type": "display_data",
          "data": {
            "text/plain": [
              "<Figure size 432x288 with 1 Axes>"
            ],
            "image/png": "[encoded data removed]"
          },
          "metadata": {
            "needs_background": "light"
          }
        },
        {
          "output_type": "display_data",
          "data": {
            "text/plain": [
              "<Figure size 432x288 with 1 Axes>"
            ],
            "image/png": "[encoded data removed]"
          },
          "metadata": {
            "needs_background": "light"
          }
        },
        {
          "output_type": "display_data",
          "data": {
            "text/plain": [
              "<Figure size 432x288 with 1 Axes>"
            ],
            "image/png": "[encoded data removed]"
          },
          "metadata": {
            "needs_background": "light"
          }
        }
      ]
    },
    {
      "cell_type": "code",
      "source": [
        "df_no_outlier.describe()"
      ],
      "metadata": {
        "colab": {
          "base_uri": "https://localhost:8080/",
          "height": 300
        },
        "id": "rGW9E4FtoIOo",
        "outputId": "cc12e281-2e1f-48fe-b0d3-eedcdc250eda"
      },
      "execution_count": null,
      "outputs": [
        {
          "output_type": "execute_result",
          "data": {
            "text/plain": [
              "       trip_seconds    trip_miles    trip_total          tips        extras  \\\n",
              "count  24257.000000  24414.000000  24413.000000  24413.000000  24413.000000   \n",
              "mean     530.338006      1.398565      9.423397      0.772761      0.368837   \n",
              "std      343.964218      1.523689      4.204896      1.169197      0.607615   \n",
              "min        0.000000      0.000000      0.000000      0.000000      0.000000   \n",
              "25%      300.000000      0.100000      6.500000      0.000000      0.000000   \n",
              "50%      480.000000      1.000000      8.500000      0.000000      0.000000   \n",
              "75%      720.000000      1.940000     11.500000      2.000000      1.000000   \n",
              "max     1932.000000      7.160000     28.100000      5.000000      2.500000   \n",
              "\n",
              "         tolls  \n",
              "count  20275.0  \n",
              "mean       0.0  \n",
              "std        0.0  \n",
              "min        0.0  \n",
              "25%        0.0  \n",
              "50%        0.0  \n",
              "75%        0.0  \n",
              "max        0.0  "
            ],
            "text/html": [
              "\n",
              "  <div id=\"df-4902c997-a2f8-44c0-b0dc-09c2b1fcfd11\">\n",
              "    <div class=\"colab-df-container\">\n",
              "      <div>\n",
              "<style scoped>\n",
              "    .dataframe tbody tr th:only-of-type {\n",
              "        vertical-align: middle;\n",
              "    }\n",
              "\n",
              "    .dataframe tbody tr th {\n",
              "        vertical-align: top;\n",
              "    }\n",
              "\n",
              "    .dataframe thead th {\n",
              "        text-align: right;\n",
              "    }\n",
              "</style>\n",
              "<table border=\"1\" class=\"dataframe\">\n",
              "  <thead>\n",
              "    <tr style=\"text-align: right;\">\n",
              "      <th></th>\n",
              "      <th>trip_seconds</th>\n",
              "      <th>trip_miles</th>\n",
              "      <th>trip_total</th>\n",
              "      <th>tips</th>\n",
              "      <th>extras</th>\n",
              "      <th>tolls</th>\n",
              "    </tr>\n",
              "  </thead>\n",
              "  <tbody>\n",
              "    <tr>\n",
              "      <th>count</th>\n",
              "      <td>24257.000000</td>\n",
              "      <td>24414.000000</td>\n",
              "      <td>24413.000000</td>\n",
              "      <td>24413.000000</td>\n",
              "      <td>24413.000000</td>\n",
              "      <td>20275.0</td>\n",
              "    </tr>\n",
              "    <tr>\n",
              "      <th>mean</th>\n",
              "      <td>530.338006</td>\n",
              "      <td>1.398565</td>\n",
              "      <td>9.423397</td>\n",
              "      <td>0.772761</td>\n",
              "      <td>0.368837</td>\n",
              "      <td>0.0</td>\n",
              "    </tr>\n",
              "    <tr>\n",
              "      <th>std</th>\n",
              "      <td>343.964218</td>\n",
              "      <td>1.523689</td>\n",
              "      <td>4.204896</td>\n",
              "      <td>1.169197</td>\n",
              "      <td>0.607615</td>\n",
              "      <td>0.0</td>\n",
              "    </tr>\n",
              "    <tr>\n",
              "      <th>min</th>\n",
              "      <td>0.000000</td>\n",
              "      <td>0.000000</td>\n",
              "      <td>0.000000</td>\n",
              "      <td>0.000000</td>\n",
              "      <td>0.000000</td>\n",
              "      <td>0.0</td>\n",
              "    </tr>\n",
              "    <tr>\n",
              "      <th>25%</th>\n",
              "      <td>300.000000</td>\n",
              "      <td>0.100000</td>\n",
              "      <td>6.500000</td>\n",
              "      <td>0.000000</td>\n",
              "      <td>0.000000</td>\n",
              "      <td>0.0</td>\n",
              "    </tr>\n",
              "    <tr>\n",
              "      <th>50%</th>\n",
              "      <td>480.000000</td>\n",
              "      <td>1.000000</td>\n",
              "      <td>8.500000</td>\n",
              "      <td>0.000000</td>\n",
              "      <td>0.000000</td>\n",
              "      <td>0.0</td>\n",
              "    </tr>\n",
              "    <tr>\n",
              "      <th>75%</th>\n",
              "      <td>720.000000</td>\n",
              "      <td>1.940000</td>\n",
              "      <td>11.500000</td>\n",
              "      <td>2.000000</td>\n",
              "      <td>1.000000</td>\n",
              "      <td>0.0</td>\n",
              "    </tr>\n",
              "    <tr>\n",
              "      <th>max</th>\n",
              "      <td>1932.000000</td>\n",
              "      <td>7.160000</td>\n",
              "      <td>28.100000</td>\n",
              "      <td>5.000000</td>\n",
              "      <td>2.500000</td>\n",
              "      <td>0.0</td>\n",
              "    </tr>\n",
              "  </tbody>\n",
              "</table>\n",
              "</div>\n",
              "      <button class=\"colab-df-convert\" onclick=\"convertToInteractive('df-4902c997-a2f8-44c0-b0dc-09c2b1fcfd11')\"\n",
              "              title=\"Convert this dataframe to an interactive table.\"\n",
              "              style=\"display:none;\">\n",
              "        \n",
              "  <svg xmlns=\"http://www.w3.org/2000/svg\" height=\"24px\"viewBox=\"0 0 24 24\"\n",
              "       width=\"24px\">\n",
              "    <path d=\"M0 0h24v24H0V0z\" fill=\"none\"/>\n",
              "    <path d=\"M18.56 5.44l.94 2.06.94-2.06 2.06-.94-2.06-.94-.94-2.06-.94 2.06-2.06.94zm-11 1L8.5 8.5l.94-2.06 2.06-.94-2.06-.94L8.5 2.5l-.94 2.06-2.06.94zm10 10l.94 2.06.94-2.06 2.06-.94-2.06-.94-.94-2.06-.94 2.06-2.06.94z\"/><path d=\"M17.41 7.96l-1.37-1.37c-.4-.4-.92-.59-1.43-.59-.52 0-1.04.2-1.43.59L10.3 9.45l-7.72 7.72c-.78.78-.78 2.05 0 2.83L4 21.41c.39.39.9.59 1.41.59.51 0 1.02-.2 1.41-.59l7.78-7.78 2.81-2.81c.8-.78.8-2.07 0-2.86zM5.41 20L4 18.59l7.72-7.72 1.47 1.35L5.41 20z\"/>\n",
              "  </svg>\n",
              "      </button>\n",
              "      \n",
              "  <style>\n",
              "    .colab-df-container {\n",
              "      display:flex;\n",
              "      flex-wrap:wrap;\n",
              "      gap: 12px;\n",
              "    }\n",
              "\n",
              "    .colab-df-convert {\n",
              "      background-color: #E8F0FE;\n",
              "      border: none;\n",
              "      border-radius: 50%;\n",
              "      cursor: pointer;\n",
              "      display: none;\n",
              "      fill: #1967D2;\n",
              "      height: 32px;\n",
              "      padding: 0 0 0 0;\n",
              "      width: 32px;\n",
              "    }\n",
              "\n",
              "    .colab-df-convert:hover {\n",
              "      background-color: #E2EBFA;\n",
              "      box-shadow: 0px 1px 2px rgba(60, 64, 67, 0.3), 0px 1px 3px 1px rgba(60, 64, 67, 0.15);\n",
              "      fill: #174EA6;\n",
              "    }\n",
              "\n",
              "    [theme=dark] .colab-df-convert {\n",
              "      background-color: #3B4455;\n",
              "      fill: #D2E3FC;\n",
              "    }\n",
              "\n",
              "    [theme=dark] .colab-df-convert:hover {\n",
              "      background-color: #434B5C;\n",
              "      box-shadow: 0px 1px 3px 1px rgba(0, 0, 0, 0.15);\n",
              "      filter: drop-shadow(0px 1px 2px rgba(0, 0, 0, 0.3));\n",
              "      fill: #FFFFFF;\n",
              "    }\n",
              "  </style>\n",
              "\n",
              "      <script>\n",
              "        const buttonEl =\n",
              "          document.querySelector('#df-4902c997-a2f8-44c0-b0dc-09c2b1fcfd11 button.colab-df-convert');\n",
              "        buttonEl.style.display =\n",
              "          google.colab.kernel.accessAllowed ? 'block' : 'none';\n",
              "\n",
              "        async function convertToInteractive(key) {\n",
              "          const element = document.querySelector('#df-4902c997-a2f8-44c0-b0dc-09c2b1fcfd11');\n",
              "          const dataTable =\n",
              "            await google.colab.kernel.invokeFunction('convertToInteractive',\n",
              "                                                     [key], {});\n",
              "          if (!dataTable) return;\n",
              "\n",
              "          const docLinkHtml = 'Like what you see? Visit the ' +\n",
              "            '<a target=\"_blank\" href=https://colab.research.google.com/notebooks/data_table.ipynb>data table notebook</a>'\n",
              "            + ' to learn more about interactive tables.';\n",
              "          element.innerHTML = '';\n",
              "          dataTable['output_type'] = 'display_data';\n",
              "          await google.colab.output.renderOutput(dataTable, element);\n",
              "          const docLink = document.createElement('div');\n",
              "          docLink.innerHTML = docLinkHtml;\n",
              "          element.appendChild(docLink);\n",
              "        }\n",
              "      </script>\n",
              "    </div>\n",
              "  </div>\n",
              "  "
            ]
          },
          "metadata": {},
          "execution_count": 20
        }
      ]
    },
    {
      "cell_type": "markdown",
      "source": [
        "### Tratando missing"
      ],
      "metadata": {
        "id": "0ezRE3oS1w75"
      }
    },
    {
      "cell_type": "code",
      "source": [
        "df_original[X].isnull().sum()"
      ],
      "metadata": {
        "colab": {
          "base_uri": "https://localhost:8080/"
        },
        "id": "M9WSfd3e6kJa",
        "outputId": "a42679f9-44a3-4f84-e4d1-f00b630845d8"
      },
      "execution_count": null,
      "outputs": [
        {
          "output_type": "execute_result",
          "data": {
            "text/plain": [
              "trip_seconds     195\n",
              "trip_miles         0\n",
              "trip_total         1\n",
              "tips               1\n",
              "extras             1\n",
              "tolls           5067\n",
              "dtype: int64"
            ]
          },
          "metadata": {},
          "execution_count": 21
        }
      ]
    },
    {
      "cell_type": "markdown",
      "source": [
        "De 30 mil dados apenas 195 do trip_seconds são nulos, ou seja <b> 0,65%</b>.\n",
        "<p>A <b>exclusão destes dados não afetaria nosso modelo</b>."
      ],
      "metadata": {
        "id": "jAOxw8_x725_"
      }
    },
    {
      "cell_type": "code",
      "source": [
        "#Exclusão nan of trip_seconds\n",
        "df_no_nan_trip_seconds=df_original[X].loc[(df_original['trip_seconds'].isnull()==False)]\n",
        "df_no_nan_trip_seconds.isnull().sum()"
      ],
      "metadata": {
        "colab": {
          "base_uri": "https://localhost:8080/"
        },
        "id": "lCl_imJj71qt",
        "outputId": "0948297a-affd-4965-f3cd-d1e745c1528b"
      },
      "execution_count": null,
      "outputs": [
        {
          "output_type": "execute_result",
          "data": {
            "text/plain": [
              "trip_seconds       0\n",
              "trip_miles         0\n",
              "trip_total         1\n",
              "tips               1\n",
              "extras             1\n",
              "tolls           5067\n",
              "dtype: int64"
            ]
          },
          "metadata": {},
          "execution_count": 29
        }
      ]
    },
    {
      "cell_type": "code",
      "source": [
        "#Exclusão nan of trip_total\n",
        "df_no_nan_=df_no_nan_trip_seconds[X].loc[(df_no_nan_trip_seconds['trip_total'].isnull()==False)]\n",
        "df_no_nan_.isnull().sum()"
      ],
      "metadata": {
        "colab": {
          "base_uri": "https://localhost:8080/"
        },
        "id": "oDGgH--HnrZ_",
        "outputId": "5aeff611-86c9-45b7-9849-9dfe2dc2a118"
      },
      "execution_count": null,
      "outputs": [
        {
          "output_type": "execute_result",
          "data": {
            "text/plain": [
              "trip_seconds       0\n",
              "trip_miles         0\n",
              "trip_total         0\n",
              "tips               0\n",
              "extras             0\n",
              "tolls           5066\n",
              "dtype: int64"
            ]
          },
          "metadata": {},
          "execution_count": 31
        }
      ]
    },
    {
      "cell_type": "code",
      "source": [
        "#Zero for Nan in tolls\n",
        "df_no_nan_=df_no_nan_.copy()\n",
        "df_no_nan_.loc[(df_no_nan_['tolls'].isnull()==True),['tolls']]=0\n",
        "df_no_nan_.isnull().sum()"
      ],
      "metadata": {
        "colab": {
          "base_uri": "https://localhost:8080/"
        },
        "id": "oQPs1pLwcYEX",
        "outputId": "00e92049-a42b-4b38-d6d7-b4c4122ccaae"
      },
      "execution_count": null,
      "outputs": [
        {
          "output_type": "execute_result",
          "data": {
            "text/plain": [
              "trip_seconds    0\n",
              "trip_miles      0\n",
              "trip_total      0\n",
              "tips            0\n",
              "extras          0\n",
              "tolls           0\n",
              "dtype: int64"
            ]
          },
          "metadata": {},
          "execution_count": 33
        }
      ]
    },
    {
      "cell_type": "markdown",
      "source": [
        "##3ª Parte - Aplicação Modelo"
      ],
      "metadata": {
        "id": "XiryJjYu96Au"
      }
    },
    {
      "cell_type": "code",
      "source": [
        "# Modelo: fare=trip_total+extras+tips+tolls\n",
        "from sklearn.metrics import r2_score\n",
        "from sklearn.model_selection import train_test_split\n",
        "\n",
        "#definindo as features de entrada do modelo e o target\n",
        "x=df_no_nan_[['trip_total','extras','tips','tolls']]\n",
        "y=df_original.iloc[df_no_nan_.index]\n",
        "#Separando em treino e teste\n",
        "x_train,x_test,y_train,y_test=train_test_split(x, y, train_size=0.7, random_state=0)\n",
        "\n",
        "#Modelo e sua aplicação\n",
        "fare=[]\n",
        "for i in x_test.index:\n",
        "  soma=x_test['trip_total'][i]-(x_test['extras'][i]+x_test['tips'][i]+x_test['tolls'][i])\n",
        "  fare.append(soma)\n",
        "\n",
        "#Avaliação do Modelo pelo R2\n",
        "r2_score(y_test.fare,fare)"
      ],
      "metadata": {
        "colab": {
          "base_uri": "https://localhost:8080/"
        },
        "id": "j1DD_Sr2w5ib",
        "outputId": "37d6af19-2a05-43e6-b975-93415453b3ba"
      },
      "execution_count": null,
      "outputs": [
        {
          "output_type": "execute_result",
          "data": {
            "text/plain": [
              "0.9998343748423391"
            ]
          },
          "metadata": {},
          "execution_count": 150
        }
      ]
    },
    {
      "cell_type": "code",
      "source": [
        "#Definidndo função de comparação de modelos lineares\n",
        "\n",
        "def ApplyesKFold(x_axis, y_axis):\n",
        "  # Linear Models.\n",
        "  from sklearn.linear_model import LinearRegression\n",
        "  from sklearn.linear_model import ElasticNet\n",
        "  from sklearn.linear_model import Ridge\n",
        "  from sklearn.linear_model import Lasso\n",
        "\n",
        "  # Cross-Validation models.\n",
        "  from sklearn.model_selection import cross_val_score\n",
        "  from sklearn.model_selection import KFold\n",
        "\n",
        "  # KFold settings.\n",
        "  kfold  = KFold(n_splits=10, shuffle=True) # shuffle=True, Shuffle (embaralhar) the data.\n",
        "\n",
        "  # Axis\n",
        "  x = x_axis\n",
        "  y = y_axis\n",
        "\n",
        "  # Models instances.\n",
        "  linearRegression = LinearRegression()\n",
        "  elasticNet       = ElasticNet()\n",
        "  ridge            = Ridge()\n",
        "  lasso            = Lasso()\n",
        "\n",
        "  # Applyes KFold to models.\n",
        "  linearRegression_result = cross_val_score(linearRegression, x, y,cv = kfold)\n",
        "  elasticNet_result       = cross_val_score(elasticNet, x, y, cv = kfold)\n",
        "  ridge_result            = cross_val_score(ridge, x, y, cv = kfold)\n",
        "  lasso_result            = cross_val_score(lasso, x, y, cv = kfold)\n",
        "\n",
        "  # Creates a dictionary to store Linear Models.\n",
        "  dic_models = {\n",
        "    \"LinearRegression\": linearRegression_result.mean(),\n",
        "    \"ElasticNet\": elasticNet_result.mean(),\n",
        "    \"Ridge\": ridge_result.mean(),\n",
        "    \"Lasso\": lasso_result.mean()\n",
        "  }\n",
        "  # Select the best model.\n",
        "  bestModel = max(dic_models, key=dic_models.get)\n",
        "\n",
        "  print(\"Linear Regression Mean (R^2): {0}\\nElastic Net Mean (R^2): {1}\\nRidge Mean (R^2): {2}\\nLasso Mean (R^2): {3}\".format(linearRegression_result.mean(), elasticNet_result.mean(), ridge_result.mean(), lasso_result.mean()))\n",
        "  print(\"The best model is: {0} with value: {1}\".format(bestModel, dic_models[bestModel]))\n"
      ],
      "metadata": {
        "id": "Fg5L1I_AAlbm"
      },
      "execution_count": null,
      "outputs": []
    },
    {
      "cell_type": "code",
      "source": [
        "ApplyesKFold(x,y)"
      ],
      "metadata": {
        "colab": {
          "base_uri": "https://localhost:8080/"
        },
        "id": "SnY6Os77BHeO",
        "outputId": "fc864198-d5f1-40ef-da92-f235a60d3c66"
      },
      "execution_count": null,
      "outputs": [
        {
          "output_type": "stream",
          "name": "stdout",
          "text": [
            "Linear Regression Mean (R^2): 0.9998654678818015\n",
            "Elastic Net Mean (R^2): 0.9966825295409732\n",
            "Ridge Mean (R^2): 0.9998659401556813\n",
            "Lasso Mean (R^2): 0.9959122309009663\n",
            "The best model is: Ridge with value: 0.9998659401556813\n"
          ]
        }
      ]
    },
    {
      "cell_type": "code",
      "source": [
        "#Treinando Modelos\n",
        "\n",
        "# Cross-Validation models.\n",
        "from sklearn.model_selection import cross_val_score\n",
        "from sklearn.model_selection import KFold\n",
        "\n",
        "# KFold settings.\n",
        "kfold  = KFold(n_splits=10, shuffle=True) # shuffle=True, Shuffle (embaralhar) the data.\n",
        "# Axis\n",
        "x = x_axis\n",
        "y = y_axis\n",
        "# Models instances.\n",
        "linearRegression = LinearRegression()\n",
        "elasticNet       = ElasticNet()\n",
        "ridge            = Ridge()\n",
        "lasso            = Lasso()\n",
        "\n",
        "# Applyes KFold to models.\n",
        "linearRegression_result = cross_val_score(linearRegression, x, y,cv = kfold)\n",
        "elasticNet_result       = cross_val_score(elasticNet, x, y, cv = kfold)\n",
        "ridge_result            = cross_val_score(ridge, x, y, cv = kfold)\n",
        "lasso_result            = cross_val_score(lasso, x, y, cv = kfold)"
      ],
      "metadata": {
        "id": "rEqaKwEY1-fy"
      },
      "execution_count": null,
      "outputs": []
    },
    {
      "cell_type": "markdown",
      "source": [
        "## 4ª parte - Aplicando modelo nos dados testes do desafio"
      ],
      "metadata": {
        "id": "FcB8AtqJ-_s8"
      }
    },
    {
      "cell_type": "code",
      "execution_count": null,
      "metadata": {
        "id": "xCwhUwaZur8m"
      },
      "outputs": [],
      "source": [
        "#Vamos testar no modelo teste\n",
        "taxi_submission=pd.read_csv('https://drive.google.com/u/0/uc?id=1b7TW5UcXLJDuU4tBIi1rNbvM4Zp0HVYM&export=download', sep=',')"
      ]
    },
    {
      "cell_type": "code",
      "source": [
        "taxi_submission.columns"
      ],
      "metadata": {
        "colab": {
          "base_uri": "https://localhost:8080/"
        },
        "id": "MMumxXFLy-Ff",
        "outputId": "c4045f92-4e65-4bec-8a73-8aca9b569c5d"
      },
      "execution_count": null,
      "outputs": [
        {
          "output_type": "execute_result",
          "data": {
            "text/plain": [
              "Index(['unique_key', 'taxi_id', 'trip_start_timestamp', 'trip_end_timestamp',\n",
              "       'trip_seconds', 'trip_miles', 'pickup_census_tract',\n",
              "       'dropoff_census_tract', 'pickup_community_area',\n",
              "       'dropoff_community_area', 'tips', 'tolls', 'extras', 'trip_total',\n",
              "       'payment_type', 'company', 'pickup_latitude', 'pickup_longitude',\n",
              "       'pickup_location', 'dropoff_latitude', 'dropoff_longitude',\n",
              "       'dropoff_location', 'ride_date'],\n",
              "      dtype='object')"
            ]
          },
          "metadata": {},
          "execution_count": 72
        }
      ]
    },
    {
      "cell_type": "code",
      "execution_count": null,
      "metadata": {
        "id": "v6DtqQxooLkE"
      },
      "outputs": [],
      "source": [
        "#dados para teste\n",
        "column=['trip_total','extras','tips','tolls']\n",
        "taxi_teste=taxi_submission[column]"
      ]
    },
    {
      "cell_type": "code",
      "execution_count": null,
      "metadata": {
        "colab": {
          "base_uri": "https://localhost:8080/"
        },
        "id": "eeQ7MTkvuk2J",
        "outputId": "3f36152e-d983-454e-9ccd-316aba7f4301"
      },
      "outputs": [
        {
          "output_type": "execute_result",
          "data": {
            "text/plain": [
              "trip_total       1\n",
              "extras           1\n",
              "tips             1\n",
              "tolls         3361\n",
              "dtype: int64"
            ]
          },
          "metadata": {},
          "execution_count": 74
        }
      ],
      "source": [
        "#tratando dados do teste\n",
        "taxi_teste.isnull().sum()"
      ]
    },
    {
      "cell_type": "code",
      "source": [
        "#Missing to zero in tolls\n",
        "df_no_nan_teste=taxi_teste.copy()\n",
        "df_no_nan_teste.loc[(df_no_nan_teste['tolls'].isnull()==True),['tolls']]=0\n",
        "df_no_nan_teste.isnull().sum()"
      ],
      "metadata": {
        "colab": {
          "base_uri": "https://localhost:8080/"
        },
        "id": "gLB5ShE9tHKe",
        "outputId": "72636b7c-94e2-48b9-aae2-22d6bceaec2e"
      },
      "execution_count": null,
      "outputs": [
        {
          "output_type": "execute_result",
          "data": {
            "text/plain": [
              "trip_total    1\n",
              "extras        1\n",
              "tips          1\n",
              "tolls         0\n",
              "dtype: int64"
            ]
          },
          "metadata": {},
          "execution_count": 75
        }
      ]
    },
    {
      "cell_type": "code",
      "execution_count": null,
      "metadata": {
        "colab": {
          "base_uri": "https://localhost:8080/"
        },
        "id": "OXTR3LqmvdUQ",
        "outputId": "f02edab3-bae0-44fa-a9c4-f72395e64856"
      },
      "outputs": [
        {
          "output_type": "execute_result",
          "data": {
            "text/plain": [
              "trip_total    0\n",
              "extras        0\n",
              "tips          0\n",
              "tolls         0\n",
              "dtype: int64"
            ]
          },
          "metadata": {},
          "execution_count": 76
        }
      ],
      "source": [
        "#Missing to Median \n",
        "df_teste=df_no_nan_teste.copy()\n",
        "for column in df_teste.columns:\n",
        "    df_teste[column]=df_teste[column].fillna(taxi_teste[column].median())\n",
        "df_teste.isnull().sum()\n"
      ]
    },
    {
      "cell_type": "code",
      "source": [
        "# Aplicando Modelo: fare=trip_total+extras+tips+tolls\n",
        "fare=[]\n",
        "for i in df_teste.index:\n",
        "  soma=df_teste['trip_total'][i]-(df_teste['extras'][i]+df_teste['tips'][i]+df_teste['tolls'][i])\n",
        "  fare.append(soma)\n",
        "taxi_chaves=pd.DataFrame(taxi_submission['unique_key'])#dataframe uniquekey\n",
        "taxi_chaves.insert(1,'fare',fare)#concatenando dataframes\n",
        "results_f=taxi_chaves.copy()"
      ],
      "metadata": {
        "id": "WW5g-aVwvGod"
      },
      "execution_count": null,
      "outputs": []
    },
    {
      "cell_type": "code",
      "source": [
        "#Aplicando Ridge\n",
        "results_f=ridge.predict(df_teste) #testando valores\n",
        "results_f=pd.DataFrame(results_f,columns=['fare']) #transformando em Dataframe\n",
        "taxi_chaves=pd.DataFrame(taxi_submission['unique_key'])#dataframe uniquekey\n",
        "results_f=pd.concat([taxi_chaves, results_f], axis=1)#concatenando dataframes\n",
        "results_f"
      ],
      "metadata": {
        "id": "geKh1O-TN4PU",
        "colab": {
          "base_uri": "https://localhost:8080/",
          "height": 460
        },
        "outputId": "dc626f18-6e04-42e3-f736-cde7ef76ae9f"
      },
      "execution_count": null,
      "outputs": [
        {
          "output_type": "stream",
          "name": "stderr",
          "text": [
            "/usr/local/lib/python3.7/dist-packages/sklearn/base.py:444: UserWarning: X has feature names, but Ridge was fitted without feature names\n",
            "  f\"X has feature names, but {self.__class__.__name__} was fitted without\"\n"
          ]
        },
        {
          "output_type": "execute_result",
          "data": {
            "text/plain": [
              "                                     unique_key       fare\n",
              "0      ab1adf76a077d31a82824264aed032f197423f5d  40.836178\n",
              "1      d19b9b5131a749b6c8fee6661a84833421c1e25f   9.381671\n",
              "2      f5a6afb4daedb37b82500baf34cf41adcf7ca167   7.623951\n",
              "3      f06a3db639297271c4a1f5b3704d5c0790d62620  13.944353\n",
              "4      3d9dd92332405f2649b746dda48c2f926477e358   9.425482\n",
              "...                                         ...        ...\n",
              "19995  bd399345026e933c8c9720433f3f7ef70ab2f6d3   6.023010\n",
              "19996  32f21576e43a257fa1c4c624576a097a8ff5f640  75.237920\n",
              "19997  2a66652862821235e5a24e9a6dc28e1663c41fcd   4.622658\n",
              "19998  dbac35b3e6a4ac99f8c691aaf885abc2f43cb4ca  25.732711\n",
              "19999  757b34fb34f11f33e9eccb0b2d6fb971cc3bd9f4  42.636726\n",
              "\n",
              "[20000 rows x 2 columns]"
            ],
            "text/html": [
              "\n",
              "  <div id=\"df-07639019-a304-45fe-9023-4f9b764361ad\">\n",
              "    <div class=\"colab-df-container\">\n",
              "      <div>\n",
              "<style scoped>\n",
              "    .dataframe tbody tr th:only-of-type {\n",
              "        vertical-align: middle;\n",
              "    }\n",
              "\n",
              "    .dataframe tbody tr th {\n",
              "        vertical-align: top;\n",
              "    }\n",
              "\n",
              "    .dataframe thead th {\n",
              "        text-align: right;\n",
              "    }\n",
              "</style>\n",
              "<table border=\"1\" class=\"dataframe\">\n",
              "  <thead>\n",
              "    <tr style=\"text-align: right;\">\n",
              "      <th></th>\n",
              "      <th>unique_key</th>\n",
              "      <th>fare</th>\n",
              "    </tr>\n",
              "  </thead>\n",
              "  <tbody>\n",
              "    <tr>\n",
              "      <th>0</th>\n",
              "      <td>ab1adf76a077d31a82824264aed032f197423f5d</td>\n",
              "      <td>40.836178</td>\n",
              "    </tr>\n",
              "    <tr>\n",
              "      <th>1</th>\n",
              "      <td>d19b9b5131a749b6c8fee6661a84833421c1e25f</td>\n",
              "      <td>9.381671</td>\n",
              "    </tr>\n",
              "    <tr>\n",
              "      <th>2</th>\n",
              "      <td>f5a6afb4daedb37b82500baf34cf41adcf7ca167</td>\n",
              "      <td>7.623951</td>\n",
              "    </tr>\n",
              "    <tr>\n",
              "      <th>3</th>\n",
              "      <td>f06a3db639297271c4a1f5b3704d5c0790d62620</td>\n",
              "      <td>13.944353</td>\n",
              "    </tr>\n",
              "    <tr>\n",
              "      <th>4</th>\n",
              "      <td>3d9dd92332405f2649b746dda48c2f926477e358</td>\n",
              "      <td>9.425482</td>\n",
              "    </tr>\n",
              "    <tr>\n",
              "      <th>...</th>\n",
              "      <td>...</td>\n",
              "      <td>...</td>\n",
              "    </tr>\n",
              "    <tr>\n",
              "      <th>19995</th>\n",
              "      <td>bd399345026e933c8c9720433f3f7ef70ab2f6d3</td>\n",
              "      <td>6.023010</td>\n",
              "    </tr>\n",
              "    <tr>\n",
              "      <th>19996</th>\n",
              "      <td>32f21576e43a257fa1c4c624576a097a8ff5f640</td>\n",
              "      <td>75.237920</td>\n",
              "    </tr>\n",
              "    <tr>\n",
              "      <th>19997</th>\n",
              "      <td>2a66652862821235e5a24e9a6dc28e1663c41fcd</td>\n",
              "      <td>4.622658</td>\n",
              "    </tr>\n",
              "    <tr>\n",
              "      <th>19998</th>\n",
              "      <td>dbac35b3e6a4ac99f8c691aaf885abc2f43cb4ca</td>\n",
              "      <td>25.732711</td>\n",
              "    </tr>\n",
              "    <tr>\n",
              "      <th>19999</th>\n",
              "      <td>757b34fb34f11f33e9eccb0b2d6fb971cc3bd9f4</td>\n",
              "      <td>42.636726</td>\n",
              "    </tr>\n",
              "  </tbody>\n",
              "</table>\n",
              "<p>20000 rows × 2 columns</p>\n",
              "</div>\n",
              "      <button class=\"colab-df-convert\" onclick=\"convertToInteractive('df-07639019-a304-45fe-9023-4f9b764361ad')\"\n",
              "              title=\"Convert this dataframe to an interactive table.\"\n",
              "              style=\"display:none;\">\n",
              "        \n",
              "  <svg xmlns=\"http://www.w3.org/2000/svg\" height=\"24px\"viewBox=\"0 0 24 24\"\n",
              "       width=\"24px\">\n",
              "    <path d=\"M0 0h24v24H0V0z\" fill=\"none\"/>\n",
              "    <path d=\"M18.56 5.44l.94 2.06.94-2.06 2.06-.94-2.06-.94-.94-2.06-.94 2.06-2.06.94zm-11 1L8.5 8.5l.94-2.06 2.06-.94-2.06-.94L8.5 2.5l-.94 2.06-2.06.94zm10 10l.94 2.06.94-2.06 2.06-.94-2.06-.94-.94-2.06-.94 2.06-2.06.94z\"/><path d=\"M17.41 7.96l-1.37-1.37c-.4-.4-.92-.59-1.43-.59-.52 0-1.04.2-1.43.59L10.3 9.45l-7.72 7.72c-.78.78-.78 2.05 0 2.83L4 21.41c.39.39.9.59 1.41.59.51 0 1.02-.2 1.41-.59l7.78-7.78 2.81-2.81c.8-.78.8-2.07 0-2.86zM5.41 20L4 18.59l7.72-7.72 1.47 1.35L5.41 20z\"/>\n",
              "  </svg>\n",
              "      </button>\n",
              "      \n",
              "  <style>\n",
              "    .colab-df-container {\n",
              "      display:flex;\n",
              "      flex-wrap:wrap;\n",
              "      gap: 12px;\n",
              "    }\n",
              "\n",
              "    .colab-df-convert {\n",
              "      background-color: #E8F0FE;\n",
              "      border: none;\n",
              "      border-radius: 50%;\n",
              "      cursor: pointer;\n",
              "      display: none;\n",
              "      fill: #1967D2;\n",
              "      height: 32px;\n",
              "      padding: 0 0 0 0;\n",
              "      width: 32px;\n",
              "    }\n",
              "\n",
              "    .colab-df-convert:hover {\n",
              "      background-color: #E2EBFA;\n",
              "      box-shadow: 0px 1px 2px rgba(60, 64, 67, 0.3), 0px 1px 3px 1px rgba(60, 64, 67, 0.15);\n",
              "      fill: #174EA6;\n",
              "    }\n",
              "\n",
              "    [theme=dark] .colab-df-convert {\n",
              "      background-color: #3B4455;\n",
              "      fill: #D2E3FC;\n",
              "    }\n",
              "\n",
              "    [theme=dark] .colab-df-convert:hover {\n",
              "      background-color: #434B5C;\n",
              "      box-shadow: 0px 1px 3px 1px rgba(0, 0, 0, 0.15);\n",
              "      filter: drop-shadow(0px 1px 2px rgba(0, 0, 0, 0.3));\n",
              "      fill: #FFFFFF;\n",
              "    }\n",
              "  </style>\n",
              "\n",
              "      <script>\n",
              "        const buttonEl =\n",
              "          document.querySelector('#df-07639019-a304-45fe-9023-4f9b764361ad button.colab-df-convert');\n",
              "        buttonEl.style.display =\n",
              "          google.colab.kernel.accessAllowed ? 'block' : 'none';\n",
              "\n",
              "        async function convertToInteractive(key) {\n",
              "          const element = document.querySelector('#df-07639019-a304-45fe-9023-4f9b764361ad');\n",
              "          const dataTable =\n",
              "            await google.colab.kernel.invokeFunction('convertToInteractive',\n",
              "                                                     [key], {});\n",
              "          if (!dataTable) return;\n",
              "\n",
              "          const docLinkHtml = 'Like what you see? Visit the ' +\n",
              "            '<a target=\"_blank\" href=https://colab.research.google.com/notebooks/data_table.ipynb>data table notebook</a>'\n",
              "            + ' to learn more about interactive tables.';\n",
              "          element.innerHTML = '';\n",
              "          dataTable['output_type'] = 'display_data';\n",
              "          await google.colab.output.renderOutput(dataTable, element);\n",
              "          const docLink = document.createElement('div');\n",
              "          docLink.innerHTML = docLinkHtml;\n",
              "          element.appendChild(docLink);\n",
              "        }\n",
              "      </script>\n",
              "    </div>\n",
              "  </div>\n",
              "  "
            ]
          },
          "metadata": {},
          "execution_count": 77
        }
      ]
    },
    {
      "cell_type": "code",
      "source": [
        "#Este Modelo não foi utilizado, pois teve desempenho infeior aos outros modelos\n",
        "'''#Aplicando Regressão Linear\n",
        "results_f=reg.predict(taxi_teste_sem_nulos) #testando valores\n",
        "results_f=pd.DataFrame(results_f,columns=['fare']) #transformando em Dataframe\n",
        "taxi_chaves=pd.DataFrame(taxi_submission['unique_key'])#dataframe uniquekey\n",
        "results_f=pd.concat([taxi_chaves, results_f], axis=1)#concatenando dataframes\n",
        "results_f'''"
      ],
      "metadata": {
        "id": "g-T3J6bKa_tc"
      },
      "execution_count": null,
      "outputs": []
    },
    {
      "cell_type": "code",
      "execution_count": null,
      "metadata": {
        "id": "LCT_ZJ_AQ873"
      },
      "outputs": [],
      "source": [
        "#escrevendo csv.\n",
        "results_f.to_csv('taxi_results01_submission.csv',index=False)"
      ]
    }
  ],
  "metadata": {
    "colab": {
      "provenance": [],
      "collapsed_sections": [],
      "mount_file_id": "1n6rWPTcU8V0VsjuH410lZF4Jke4h1lng",
      "authorship_tag": "ABX9TyOkTC8HnwW/PJ7GZJrYZIzs",
      "include_colab_link": true
    },
    "kernelspec": {
      "display_name": "Python 3",
      "name": "python3"
    },
    "language_info": {
      "name": "python"
    }
  },
  "nbformat": 4,
  "nbformat_minor": 0
}